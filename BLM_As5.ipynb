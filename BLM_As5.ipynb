{
 "cells": [
  {
   "cell_type": "markdown",
   "metadata": {},
   "source": [
    "### Assignment 1"
   ]
  },
  {
   "cell_type": "code",
   "execution_count": 12,
   "metadata": {
    "jupyter": {
     "source_hidden": true
    }
   },
   "outputs": [],
   "source": [
    "from math import log\n",
    "from scipy.optimize import root_scalar as solve\n",
    "import matplotlib.pyplot as plt\n",
    "import numpy as np"
   ]
  },
  {
   "cell_type": "code",
   "execution_count": 2,
   "metadata": {},
   "outputs": [],
   "source": [
    "xx = [5,10,20,40,80,160,320]"
   ]
  },
  {
   "cell_type": "code",
   "execution_count": 3,
   "metadata": {},
   "outputs": [],
   "source": [
    "# smooth to rough\n",
    "z01 = 0.001\n",
    "z02 = 1\n",
    "M = log(z02/z01)"
   ]
  },
  {
   "cell_type": "code",
   "execution_count": 7,
   "metadata": {},
   "outputs": [],
   "source": [
    "# rough to smooth\n",
    "M = log(z01/z02)"
   ]
  },
  {
   "cell_type": "code",
   "execution_count": 8,
   "metadata": {},
   "outputs": [],
   "source": [
    "k, B = 0.4, 1.25\n",
    "An = 1 + 0.1*M"
   ]
  },
  {
   "cell_type": "code",
   "execution_count": 5,
   "metadata": {
    "collapsed": true,
    "jupyter": {
     "outputs_hidden": true
    }
   },
   "outputs": [
    {
     "data": {
      "text/plain": [
       "[0.7517948093067178,\n",
       " 1.3601595593574434,\n",
       " 2.4805170031775226,\n",
       " 4.5549142886236,\n",
       " 8.414245081546508,\n",
       " 15.625231751660166,\n",
       " 29.150579498618185]"
      ]
     },
     "execution_count": 5,
     "metadata": {},
     "output_type": "execute_result"
    }
   ],
   "source": [
    "yy = [solve((lambda y: y*(log(y/z01)-1) - B*k*An*x), \n",
    "             bracket=(0.01,x*x),method='bisect').root \n",
    "             for x in xx]\n",
    "\n",
    "yy"
   ]
  },
  {
   "cell_type": "code",
   "execution_count": 6,
   "metadata": {},
   "outputs": [
    {
     "data": {
      "text/plain": [
       "array([ 0.8,  1.4,  2.5,  4.6,  8.4, 15.6, 29.2])"
      ]
     },
     "execution_count": 6,
     "metadata": {},
     "output_type": "execute_result"
    }
   ],
   "source": [
    "np.round(yy,1)"
   ]
  },
  {
   "cell_type": "code",
   "execution_count": 9,
   "metadata": {
    "collapsed": true,
    "jupyter": {
     "outputs_hidden": true,
     "source_hidden": true
    }
   },
   "outputs": [
    {
     "data": {
      "text/plain": [
       "[3.409977392304376,\n",
       " 4.00068157095102,\n",
       " 5.027945909691015,\n",
       " 6.773584904928293,\n",
       " 9.712917065064575,\n",
       " 14.672682308326685,\n",
       " 23.114579589736188]"
      ]
     },
     "execution_count": 9,
     "metadata": {},
     "output_type": "execute_result"
    }
   ],
   "source": [
    "yy_ = [solve((lambda y: y*(log(y)-1) - B*k*An*x), \n",
    "             bracket=(0.01,x*x),method='bisect').root \n",
    "             for x in xx]\n",
    "\n",
    "yy_"
   ]
  },
  {
   "cell_type": "code",
   "execution_count": 10,
   "metadata": {},
   "outputs": [
    {
     "data": {
      "text/plain": [
       "array([ 3.4,  4. ,  5. ,  6.8,  9.7, 14.7, 23.1])"
      ]
     },
     "execution_count": 10,
     "metadata": {},
     "output_type": "execute_result"
    }
   ],
   "source": [
    "np.round(yy_,1)"
   ]
  },
  {
   "cell_type": "code",
   "execution_count": 11,
   "metadata": {},
   "outputs": [
    {
     "data": {
      "text/plain": [
       "<matplotlib.legend.Legend at 0x7ff6ba48b150>"
      ]
     },
     "execution_count": 11,
     "metadata": {},
     "output_type": "execute_result"
    },
    {
     "data": {
      "image/png": "[encoded data removed]",
      "text/plain": [
       "<Figure size 432x288 with 1 Axes>"
      ]
     },
     "metadata": {
      "needs_background": "light"
     },
     "output_type": "display_data"
    }
   ],
   "source": [
    "fig,ax = plt.subplots()\n",
    "ax.scatter(xx,yy)\n",
    "ax.scatter(xx,yy_)\n",
    "ax.tick_params(direction='in')\n",
    "ax.set_xlabel('$x_1$ [m]')\n",
    "ax.set_ylabel('$h_{IBL}$ [m]')\n",
    "ax.legend(['s->r','r->s'])"
   ]
  },
  {
   "cell_type": "markdown",
   "metadata": {},
   "source": [
    "IBL is lower for the transition smooth to rough near the transition x=0; for larger x1 (~> 100m) IBL is lower for the transition rough to smooth.\n",
    "\n",
    "b) $x_1$ ~ 10$h_{IBL}$\n",
    "\n",
    "so a 'rule-of-thumb' estimate for \n",
    "fetch ~ 10$z_m$"
   ]
  },
  {
   "cell_type": "markdown",
   "metadata": {},
   "source": [
    "### Assignment 2"
   ]
  },
  {
   "cell_type": "code",
   "execution_count": 53,
   "metadata": {
    "jupyter": {
     "source_hidden": true
    }
   },
   "outputs": [],
   "source": [
    "z0 = 0.05\n",
    "zm = 20\n",
    "X = 0.87"
   ]
  },
  {
   "cell_type": "markdown",
   "metadata": {},
   "source": [
    "#case I\n",
    "L = -20\n",
    "h = 2500\n",
    "\n",
    "#case II\n",
    "L = inf\n",
    "h = 2500\n",
    "\n",
    "#case III\n",
    "L = 20\n",
    "h = 170\n",
    "\n",
    "z_L = -1, 0, 1"
   ]
  },
  {
   "cell_type": "code",
   "execution_count": 60,
   "metadata": {},
   "outputs": [
    {
     "data": {
      "text/plain": [
       "1.1162322497683264"
      ]
     },
     "execution_count": 60,
     "metadata": {},
     "output_type": "execute_result"
    }
   ],
   "source": [
    "h = 2500\n",
    "z_L = -1\n",
    "x = (1-16*z_L) ** (1/4)\n",
    "psi = 2*log((1+x)/2) + log((1+x**2)/2) - 2*np.arctan(x) + np.pi/2\n",
    "psi"
   ]
  },
  {
   "cell_type": "code",
   "execution_count": 68,
   "metadata": {},
   "outputs": [
    {
     "data": {
      "text/plain": [
       "-6"
      ]
     },
     "execution_count": 68,
     "metadata": {},
     "output_type": "execute_result"
    }
   ],
   "source": [
    "h = 170\n",
    "psi = -6"
   ]
  },
  {
   "cell_type": "code",
   "execution_count": 62,
   "metadata": {},
   "outputs": [
    {
     "data": {
      "text/plain": [
       "85.51314715091735"
      ]
     },
     "execution_count": 62,
     "metadata": {},
     "output_type": "execute_result"
    }
   ],
   "source": [
    "dist = X*zm*(log(zm/z0)-psi) / (1-zm/h)\n",
    "dist"
   ]
  },
  {
   "cell_type": "markdown",
   "metadata": {},
   "source": [
    "case I unstable: 85.51 m\n",
    "\n",
    "case II neutral: 105.09 m\n",
    "\n",
    "case III stable: 236.47 m\n",
    "\n",
    "The distance of maximum footprint is the largest in the stable case III, because in this case the turbulent mixing is relatively small, so the flow signal can be carried further away than the neutral case II, the maximum footprint distance of which is again larger the unstable case I, where the mixing is the largest."
   ]
  },
  {
   "cell_type": "markdown",
   "metadata": {},
   "source": [
    "### Assignment 3"
   ]
  },
  {
   "cell_type": "markdown",
   "metadata": {},
   "source": [
    "a)\n",
    "\n",
    "i. mean building height $z_s$ = 15 m\n",
    "\n",
    "height of roughness sublayer at the urban site $z_*$ = 3$z_s$ = 45 m\n",
    "\n",
    "roughness length $z_{ou}$ = 0.1$z_s$ = 1.5 m\n",
    "\n",
    "zeroplane displacement height $z_{du}$ = 0.7$z_s$ = 10.5 m\n",
    "\n",
    "ii. log wind profile\n",
    "\n",
    "#### $u_r = \\frac{u_{*r}}{k} ln \\frac{z_{mr}}{z_{or}}$\n",
    "\n",
    "friction velocity at the airport \n",
    "\n",
    "#### $u_{*r} = \\frac{u_r*k}{ln(\\frac{z_{mr}}{z_{or}})}$"
   ]
  },
  {
   "cell_type": "code",
   "execution_count": 63,
   "metadata": {},
   "outputs": [
    {
     "data": {
      "text/plain": [
       "0.369100722503963"
      ]
     },
     "execution_count": 63,
     "metadata": {},
     "output_type": "execute_result"
    }
   ],
   "source": [
    "z_or = 0.015\n",
    "u_r = 6*0.4/np.log(10/z_or)\n",
    "u_r"
   ]
  },
  {
   "cell_type": "markdown",
   "metadata": {},
   "source": [
    "#### $\\frac{u_{*u}}{u_{*r}} = (\\frac{z_{ou}}{z_{or}})^\\alpha$\n",
    "\n",
    "friction velocity at the urban site $u_{*u}$"
   ]
  },
  {
   "cell_type": "code",
   "execution_count": 64,
   "metadata": {},
   "outputs": [
    {
     "data": {
      "text/plain": [
       "0.510910578959668"
      ]
     },
     "execution_count": 64,
     "metadata": {},
     "output_type": "execute_result"
    }
   ],
   "source": [
    "z_ou = 1.5\n",
    "alpha = 0.0706\n",
    "u_u = u_r * (z_ou/z_or) ** alpha\n",
    "u_u"
   ]
  },
  {
   "cell_type": "markdown",
   "metadata": {},
   "source": [
    "The relative magnitude of $𝑢_{∗𝑢}$ and $𝑢_{∗𝑟}$ correspond to your expectations. Because a rough surface exhibit more friction than a smooth(er) surface, so the friction velocity at the urban site (rougher) is larger than at the airport.\n",
    "\n",
    "iii. urban friction velocity $u_{*u}$ corresponds to $z_{*u}$ i.e. the height of urban roughness sublayer\n",
    "\n",
    "b)\n",
    "\n",
    "i."
   ]
  },
  {
   "cell_type": "code",
   "execution_count": 65,
   "metadata": {},
   "outputs": [],
   "source": [
    "a = 1.28\n",
    "b = 3\n",
    "z_star = 45\n",
    "z_du = 10.5\n",
    "z_star_prime = z_star - z_du"
   ]
  },
  {
   "cell_type": "markdown",
   "metadata": {},
   "source": [
    "$\\bar{u}_u = \\frac{u_{*u}}{k} ln \\frac{z_{mu}}{z_{ou}}$\n",
    "\n",
    "friction velocity at the urban site \n",
    "\n",
    "$u_{*u} = \\frac{\\bar{u}_u*k}{ln(\\frac{z_{mu}}{z_{ou}})}$"
   ]
  },
  {
   "cell_type": "code",
   "execution_count": 77,
   "metadata": {},
   "outputs": [
    {
     "data": {
      "text/plain": [
       "0.8338908159028566"
      ]
     },
     "execution_count": 77,
     "metadata": {},
     "output_type": "execute_result"
    }
   ],
   "source": [
    "k = 0.4\n",
    "z_mu = 20\n",
    "z_ou = 1.5\n",
    "u_u = 5.4\n",
    "u_star_IS = u_u * k / np.log(z_mu/z_ou)\n",
    "u_star_IS"
   ]
  },
  {
   "cell_type": "code",
   "execution_count": 99,
   "metadata": {},
   "outputs": [],
   "source": [
    "z = np.arange(15,45,0.1) #,dtype=np.complex)\n",
    "z_prime = z - z_du\n",
    "Z = z_prime / z_star_prime;\n",
    "\n",
    "u_star_l = u_star_IS * np.sin(np.pi/2 * Z) ** (a/b)"
   ]
  },
  {
   "cell_type": "code",
   "execution_count": 48,
   "metadata": {
    "collapsed": true,
    "jupyter": {
     "outputs_hidden": true,
     "source_hidden": true
    }
   },
   "outputs": [
    {
     "data": {
      "image/png": "[encoded data removed]",
      "text/plain": [
       "<Figure size 432x288 with 1 Axes>"
      ]
     },
     "metadata": {
      "needs_background": "light"
     },
     "output_type": "display_data"
    }
   ],
   "source": [
    "plt.plot(u_star_l, z)\n",
    "plt.xlim([0,1.])\n",
    "plt.title('Profile of Reynolds stress')\n",
    "plt.xlabel('${u_*}$ [m/s]') #'/{u_*^{IS}}$')\n",
    "plt.ylabel('z [m]') #${z^{\\prime}}/{z_*^{\\prime}}$')\n",
    "\n",
    "ax = plt.gca()\n",
    "ax.tick_params(direction='in')"
   ]
  },
  {
   "cell_type": "markdown",
   "metadata": {},
   "source": [
    "#### $\\bar{u} = \\frac{u_*}{k} ln \\frac{z_m}{z_o}$"
   ]
  },
  {
   "cell_type": "code",
   "execution_count": 100,
   "metadata": {},
   "outputs": [],
   "source": [
    "u1_bar = u_star_l/k * np.log(z/35) + 5.4"
   ]
  },
  {
   "cell_type": "code",
   "execution_count": 101,
   "metadata": {},
   "outputs": [],
   "source": [
    "u2_bar = u_star_IS/k * np.log(z/35) + 5.4"
   ]
  },
  {
   "cell_type": "code",
   "execution_count": 102,
   "metadata": {},
   "outputs": [
    {
     "data": {
      "text/plain": [
       "<matplotlib.legend.Legend at 0x7ff6b8c6dad0>"
      ]
     },
     "execution_count": 102,
     "metadata": {},
     "output_type": "execute_result"
    },
    {
     "data": {
      "image/png": "[encoded data removed]",
      "text/plain": [
       "<Figure size 432x288 with 1 Axes>"
      ]
     },
     "metadata": {
      "needs_background": "light"
     },
     "output_type": "display_data"
    }
   ],
   "source": [
    "fig,ax = plt.subplots()\n",
    "ax.plot(u1_bar,z)\n",
    "ax.plot(u2_bar,z)\n",
    "ax.tick_params(direction='in')\n",
    "ax.set_xlim([3,6])\n",
    "ax.set_ylim([10,50])\n",
    "ax.set_xlabel('$\\overline{u}$ [m/s]')\n",
    "ax.set_ylabel('z [m]')\n",
    "ax.legend(['parameterized Reynolds stress','constant Reynolds stress'])"
   ]
  },
  {
   "cell_type": "markdown",
   "metadata": {},
   "source": [
    "The mean wind speed with constant Reynolds stress increases faster than with parameterized one. Compared to constant Reynolds stress, the use of parameterized Reynolds stress would lead to higher mean wind speed at the rooftop height, which means lower pollutant concentration after they are more efficiently carried away, similar to the results in Rotach (2001)."
   ]
  },
  {
   "cell_type": "code",
   "execution_count": null,
   "metadata": {},
   "outputs": [],
   "source": []
  }
 ],
 "metadata": {
  "kernelspec": {
   "display_name": "Python 3",
   "language": "python",
   "name": "python3"
  },
  "language_info": {
   "codemirror_mode": {
    "name": "ipython",
    "version": 3
   },
   "file_extension": ".py",
   "mimetype": "text/x-python",
   "name": "python",
   "nbconvert_exporter": "python",
   "pygments_lexer": "ipython3",
   "version": "3.7.4"
  }
 },
 "nbformat": 4,
 "nbformat_minor": 4
}
